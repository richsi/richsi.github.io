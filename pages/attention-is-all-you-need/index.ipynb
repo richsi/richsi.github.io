{
 "cells": [
  {
   "cell_type": "markdown",
   "metadata": {},
   "source": [
    "---\n",
    "title: \"Transformers: Attention Is All You Need\"\n",
    "author: \"richsi\"\n",
    "categories: [Attention, Paper, Transformer]\n",
    "date: \"2024-12-30\"\n",
    "image: \"images/thumbnail.png\"\n",
    "---"
   ]
  },
  {
   "cell_type": "markdown",
   "metadata": {},
   "source": [
    "[\"Attention Is All You Need\"](https://arxiv.org/abs/1706.03762) by Ashish Vaswani et al., 2017."
   ]
  },
  {
   "cell_type": "code",
   "execution_count": 5,
   "metadata": {},
   "outputs": [],
   "source": [
    "#| code-summary: Importing packages\n",
    "#| code-fold: true\n",
    "\n",
    "import torch\n",
    "import numpy as np"
   ]
  },
  {
   "cell_type": "markdown",
   "metadata": {},
   "source": [
    "## Introduction\n",
    "\n",
    "The transformer is an attention-based network architecture that learns context and meaning by tracking relationships in sequential data like words in a sentence. Sequence modeling and transduction problems such as machine translation have previously been solved by recurrent neural networks (RNNs) and long short-term memory networks (LSTMs). However, due to sequential dependency, the inherent nature of RNNs prevents its training from being parallelized. Transformers also solve the vaninishing and exploding gradient problems from RNNs.\n"
   ]
  },
  {
   "cell_type": "markdown",
   "metadata": {},
   "source": [
    "## Building Blocks"
   ]
  },
  {
   "cell_type": "markdown",
   "metadata": {},
   "source": [
    "### Positional Encoding\n",
    "\n",
    "Positional encoding, also known as Sinusoidal Positional Encoding, is added to both input and output embeddings. Positional encodings also remain constant, so they only need to be compute once, whether it is for training or inference. Below is the formula:\n",
    "\n",
    "$$\n",
    "\\begin{aligned}\n",
    "PE_{(pos, 2i)} = \\sin(pos / 10000^{2i/d_{model}}) \\\\\n",
    "PE_{(pos, 2i+1)} = \\cos(pos / 10000^{2i/d_{model}})\n",
    "\\end{aligned}\n",
    "$$\n",
    "\n",
    "\n",
    "The shape of the position encoding will match the shape of the input embeddings. $pos$ represents the position of the token in the sequence, $i$ represents the current dimension index, and $d_model$ represents the total number of dimensions in the vector embedding.\n"
   ]
  },
  {
   "cell_type": "markdown",
   "metadata": {},
   "source": [
    "### Scaled Dot-Product Attention"
   ]
  },
  {
   "cell_type": "markdown",
   "metadata": {},
   "source": [
    "$$\n",
    "\\text{Attention}(Q, K, V) = \\text{softmax}(\\frac{QK^{T}}{\\sqrt{d_{k}}})V\n",
    "$$"
   ]
  },
  {
   "cell_type": "markdown",
   "metadata": {},
   "source": [
    "Scaled Dot-Product Attention takes in three inputs: query $\\bf{Q}$, key $\\bf{K}$, and value $\\bf{V}$, where $X$ is the input and $W^Q$, $W^K$, $W^V$ are learnable weight matrices specific to queries, keys, and values. \n",
    "\n",
    "$$\n",
    "\\begin{aligned}\n",
    "Q = XW^Q\\\\\n",
    "K = XW^K\\\\\n",
    "V = XW^V\\\\\n",
    "\\end{aligned}\n",
    "$$\n",
    "\n",
    "\n",
    "* $\\bf{X}$ represents the input embeddings to the transformer layer. For the first layer, $X$ = Word Embedding + Positional Encoding. In subsequent layers, $X$ is the output of the previous transformer layer. **Word embedding** is a vector that represents the semantic meaning of a word (or token).  **Positional encoding** is a vector that contains informations about a token's position in a sequence by mapping that information to a latent space.\n",
    "\n",
    "* $\\bf{Q}$ represents the current token's representation to \"query\" information from other tokens. It's derived from the combined word and positional information.\n",
    "\n",
    "* $\\bf{K}$ represents all tokens in the space and helps determine the relevance of each token to the query token. Like $Q$, it's based on the same input embeddings (word + positional) but transformed different via $W^K$.\n",
    "\n",
    "* $\\bf{V}$ represents the information associated with each token. It is the actual data that gets weighted and aggregated based on attention scores."
   ]
  },
  {
   "cell_type": "markdown",
   "metadata": {},
   "source": [
    "The dimensions of $Q$, $K$, and $V$ are determined by the model's **latent space dimensionality** ($d_{model}$) and the number of **attention heads** ($h$). In this example, we initialize the latent space dimension to be **512** and the number of attention heads to be **8**."
   ]
  },
  {
   "cell_type": "code",
   "execution_count": null,
   "metadata": {},
   "outputs": [],
   "source": [
    "def scaled_dot_product_attention(Q, K, V):\n",
    "  \"\"\" \n",
    "  Args:\n",
    "  Q, K, V: Query, Key, and Value matrices (numpy arrays).\n",
    "      Shapes: (N, d_k) for Q and K, (N, d_v) for V.\n",
    "\n",
    "  Returns:\n",
    "  output: Weighted sum of values after applying attention, shape (N, d_v)\n",
    "  attention_weights: shape (N, N)\n",
    "  \"\"\"\n",
    "  d_k = Q.shape[1] # Dimensionality of keys/queries\n",
    "  scores = np.dot(Q, K.T) / np.sqrt(d_k) # Shape: (N,d_v) @ (d_v,N) -> (N, N)\n",
    "  attention_weights = np.exp(scores) / np.sum(np.exp(scores), axis=1) # softmax equation\n",
    "  output = np.dot(attention_weights, V) # Shape: (N,N) @ (N,d_v) -> (N,d_v)\n",
    "  return output, attention_weights"
   ]
  },
  {
   "cell_type": "markdown",
   "metadata": {},
   "source": [
    "> **Note:** In the encoder and decoder's self-attention layers, the input is passed to all three parameters $Q$, $K$, and $V$. In the decoder's encoder-decoder attention layer, the output of the final encoder in the stack is passed to the $K$ and $V$ parameters. The output of the previous decoder self-attention layer is passed to the $Q$ parameter."
   ]
  },
  {
   "cell_type": "markdown",
   "metadata": {},
   "source": [
    "### Multi-Head Attention"
   ]
  },
  {
   "cell_type": "markdown",
   "metadata": {},
   "source": [
    "$$\n",
    "\\text{MultiHead}(Q, K, V) = \\text{Concat}(\\text{Attention}_1, \\text{Attention}_2, ..., \\text{Attention}_h)W^O\n",
    "$$"
   ]
  },
  {
   "cell_type": "markdown",
   "metadata": {},
   "source": [
    "Multi-head attention scales the concept of scaled dot-product attention by running multiple attention heads in parallel. Each head operates in a different subspace which optimizes feature learning. For example, one head might focus on syntax while another head focuses on semantics.\n",
    "\n",
    "**Steps:**\n",
    "\n",
    "1. **Linear Projections**: Split $Q, K, V$ into $h$ subspaces, one for each head.\n",
    "\n",
    "2. **Parallel Attention**: Perform scaled dot-product attention independently for each head.\n",
    "\n",
    "3. **Concatenation**: Combine the outputs of all heads into a single matrix.\n",
    "\n",
    "4. **Final Linear Transformation**: Project the concatenated matrix back to $d_{model}$ using $W^O$."
   ]
  },
  {
   "cell_type": "markdown",
   "metadata": {},
   "source": [
    "### Encoder \n",
    "\n",
    "The encoder stack consists of layers of encoders. Each encoder consists of a self-attention layer, two layer normalization layers, and a feed-forward layer. There is also residual connections that encapsulate the self-attention and feed-forward layers. "
   ]
  },
  {
   "cell_type": "markdown",
   "metadata": {},
   "source": [
    "### Decoder:\n"
   ]
  },
  {
   "cell_type": "markdown",
   "metadata": {},
   "source": [
    "## Applications and Insights\n",
    "\n",
    "* Where and how is this concept applied in the real world?\n",
    "* What problems does it solve, and what value does it provide?\n",
    "* What are some examples or use cases where this has been impactful?\n",
    "* What are the broader implications or insights gained from this work?\n",
    "* How does this contribute to advancements in the field or industry?"
   ]
  },
  {
   "cell_type": "markdown",
   "metadata": {},
   "source": [
    "## Conclusion\n",
    "\n",
    "* What are the key takeaways or lessons from this guide?\n",
    "* Why is this concept significant in the broader context of the field?\n",
    "* What questions remain unanswered or open for further exploration?\n",
    "* What resources or next steps can help deepen understanding?\n",
    "* How can this knowledge be applied or expanded upon in practice?"
   ]
  }
 ],
 "metadata": {
  "kernelspec": {
   "display_name": "Python 3",
   "language": "python",
   "name": "python3"
  },
  "language_info": {
   "codemirror_mode": {
    "name": "ipython",
    "version": 3
   },
   "file_extension": ".py",
   "mimetype": "text/x-python",
   "name": "python",
   "nbconvert_exporter": "python",
   "pygments_lexer": "ipython3",
   "version": "3.12.3"
  }
 },
 "nbformat": 4,
 "nbformat_minor": 2
}
